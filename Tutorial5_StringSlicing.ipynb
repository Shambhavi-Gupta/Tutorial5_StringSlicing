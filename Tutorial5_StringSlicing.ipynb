{
  "nbformat": 4,
  "nbformat_minor": 0,
  "metadata": {
    "colab": {
      "name": "Tutorial5_StringSlicing.ipynb",
      "provenance": [],
      "authorship_tag": "ABX9TyNHm/ZsslzqoXv2YbdlJNkn",
      "include_colab_link": true
    },
    "kernelspec": {
      "name": "python3",
      "display_name": "Python 3"
    }
  },
  "cells": [
    {
      "cell_type": "markdown",
      "metadata": {
        "id": "view-in-github",
        "colab_type": "text"
      },
      "source": [
        "<a href=\"https://colab.research.google.com/github/Shambhavi-Gupta/Tutorial5_StringSlicing/blob/main/Tutorial5_StringSlicing.ipynb\" target=\"_parent\"><img src=\"https://colab.research.google.com/assets/colab-badge.svg\" alt=\"Open In Colab\"/></a>"
      ]
    },
    {
      "cell_type": "code",
      "metadata": {
        "id": "FMwAoWMlfJ-R"
      },
      "source": [
        "\"\"\"\"\r\n",
        "STRING SLICING\r\n",
        "1.String slicing is obtaining a sub string from a string\r\n",
        "2.Slicing starts with the first index and ends at the last index\r\n",
        "\"\"\"\r\n",
        "my_str = \"Shambhavi is a good girl\"\r\n",
        "#print(len(my_str))\r\n",
        "print(my_str[1:9])\r\n",
        "#print(len(my_str))\r\n",
        "#print(my_str[0:9])\r\n",
        "#print(my_str[0:24])\r\n",
        "#print(my_str[0:65])\r\n",
        "#print(my_str[0:9:2]) #skips one-one character\r\n",
        "#print(my_str[:24])    #it will take whole length of the string\r\n",
        "#print(my_str[:5])    #it will take from zero till 5\r\n",
        "#print(my_str[:])     #it will take whole length\r\n",
        "#print(my_str[0:24:1])    #it will by default take the gap  as 1\r\n",
        "# it will by default take as [0:24:1] 24 is length of  string\r\n",
        "#print(my_str[::2])\r\n",
        "#FOR NEGATIVE INDICES\r\n",
        "#my_str = \"Shambhavi is a good girl\"\r\n",
        "#print(len(my_str))\r\n",
        "#print(my_str[-4:-2])  #can also write as [20:22] in positive\r\n",
        "#print(my_str[20:22])\r\n",
        "#print(my_str[20:22])\r\n",
        "#print(my_str[::-1])  #it will reverse the string\r\n",
        "print(my_str[::-2])"
      ],
      "execution_count": null,
      "outputs": []
    }
  ]
}